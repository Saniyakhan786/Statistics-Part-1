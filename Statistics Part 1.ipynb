{
 "cells": [
  {
   "cell_type": "code",
   "execution_count": null,
   "metadata": {},
   "outputs": [],
   "source": [
    "#DESCRIPTIVE STATISTICS [NUMERICAL PART]"
   ]
  },
  {
   "cell_type": "code",
   "execution_count": null,
   "metadata": {},
   "outputs": [],
   "source": [
    "#Topic is \"MEAN\""
   ]
  },
  {
   "cell_type": "code",
   "execution_count": 2,
   "metadata": {},
   "outputs": [
    {
     "name": "stdout",
     "output_type": "stream",
     "text": [
      "9.0\n"
     ]
    }
   ],
   "source": [
    "#\"PYTHON\"\n",
    "import numpy\n",
    "values = [4,11,7,14]\n",
    "x = numpy.mean(values)\n",
    "print(x)"
   ]
  },
  {
   "cell_type": "code",
   "execution_count": null,
   "metadata": {},
   "outputs": [],
   "source": [
    "'''\n",
    "\"R\"\n",
    "values <- c(4,7,11,14)\n",
    "mean(values)\n",
    "O/P:9\n",
    "'''"
   ]
  },
  {
   "cell_type": "code",
   "execution_count": null,
   "metadata": {},
   "outputs": [],
   "source": [
    "#Topic is \"MEDIAN\""
   ]
  },
  {
   "cell_type": "code",
   "execution_count": 5,
   "metadata": {},
   "outputs": [
    {
     "name": "stdout",
     "output_type": "stream",
     "text": [
      "41.0\n"
     ]
    }
   ],
   "source": [
    "#\"PYTHON\"\n",
    "import numpy\n",
    "values = [13,21,21,40,42,48,55,72]\n",
    "x = numpy.median(values)\n",
    "print(x)"
   ]
  },
  {
   "cell_type": "code",
   "execution_count": null,
   "metadata": {},
   "outputs": [],
   "source": [
    "'''\n",
    "\"R\"\n",
    "values <- c(13,21,21,40,42,48,55,72)\n",
    "median(values)\n",
    "O/P:41\n",
    "'''"
   ]
  },
  {
   "cell_type": "code",
   "execution_count": null,
   "metadata": {},
   "outputs": [],
   "source": [
    "#Topic is \"MODE\""
   ]
  },
  {
   "cell_type": "code",
   "execution_count": 6,
   "metadata": {},
   "outputs": [
    {
     "name": "stdout",
     "output_type": "stream",
     "text": [
      "[7, 12]\n"
     ]
    }
   ],
   "source": [
    "#\"PYTHON\"\n",
    "from statistics import multimode\n",
    "values = [4,7,3,8,11,7,10,19,6,9,12,12]\n",
    "x = multimode(values)\n",
    "print(x)"
   ]
  },
  {
   "cell_type": "code",
   "execution_count": null,
   "metadata": {},
   "outputs": [],
   "source": [
    "'''\n",
    "\"R\"\n",
    "mode<- finction(x)\n",
    "{\n",
    "unique_values <- unique(x)\n",
    "table <- tabulate(match(x,unique_values))\n",
    "unique_values[table==max(table)]\n",
    "}\n",
    "values <- c[4,7,3,8,11,7,10,19,6,9,12,12]\n",
    "mode(values)\n",
    "O/P:7 12 \n",
    "'''"
   ]
  },
  {
   "cell_type": "code",
   "execution_count": null,
   "metadata": {},
   "outputs": [],
   "source": [
    "#Topic is \"STANDARD DEVIATION\""
   ]
  },
  {
   "cell_type": "code",
   "execution_count": 8,
   "metadata": {},
   "outputs": [
    {
     "name": "stdout",
     "output_type": "stream",
     "text": [
      "3.8078865529319543\n"
     ]
    }
   ],
   "source": [
    "#\"PYTHON\"\n",
    "#\"POPULATION\"\n",
    "import numpy\n",
    "values = [4,11,7,14]\n",
    "x = numpy.std(values)\n",
    "print(x)"
   ]
  },
  {
   "cell_type": "code",
   "execution_count": null,
   "metadata": {},
   "outputs": [],
   "source": [
    "'''\n",
    "\"R\"\n",
    "\"POPULATION\"\n",
    "values <- c(4,7,11,14)\n",
    "sqrt(mean(values-mean(values))^2))\n",
    "O/P:3.8078655\n",
    "'''"
   ]
  },
  {
   "cell_type": "code",
   "execution_count": 9,
   "metadata": {},
   "outputs": [
    {
     "name": "stdout",
     "output_type": "stream",
     "text": [
      "4.396968652757639\n"
     ]
    }
   ],
   "source": [
    "#\"PYTHON\"\n",
    "#\"SAMPLE\"\n",
    "import numpy\n",
    "values = [4,11,7,14]\n",
    "x = numpy.std(values,ddof=1)\n",
    "print(x)"
   ]
  },
  {
   "cell_type": "code",
   "execution_count": null,
   "metadata": {},
   "outputs": [],
   "source": [
    "'''\n",
    "\"R\"\n",
    "\"SAMPLE\"\n",
    "values <- c(4,7,11,14)\n",
    "sd(values)\n",
    "O/P:3.81\n",
    "'''"
   ]
  },
  {
   "cell_type": "code",
   "execution_count": null,
   "metadata": {},
   "outputs": [],
   "source": [
    "#Topic is \"RANGE\""
   ]
  },
  {
   "cell_type": "code",
   "execution_count": 16,
   "metadata": {},
   "outputs": [
    {
     "name": "stdout",
     "output_type": "stream",
     "text": [
      "59\n"
     ]
    }
   ],
   "source": [
    "#\"PYTHON\"\n",
    "import numpy\n",
    "values = [13,21,21,40,42,48,55,72]\n",
    "x = numpy.ptp(values)\n",
    "print(x)"
   ]
  },
  {
   "cell_type": "code",
   "execution_count": null,
   "metadata": {},
   "outputs": [],
   "source": [
    "'''\n",
    "\"R\"\n",
    "values <- c(13,21,21,40,42,48,55,72)\n",
    "max(values)-min(values)\n",
    "O/P:59  \n",
    "'''"
   ]
  },
  {
   "cell_type": "code",
   "execution_count": null,
   "metadata": {},
   "outputs": [],
   "source": [
    "#Topic is \"QUARTILES\""
   ]
  },
  {
   "cell_type": "code",
   "execution_count": 11,
   "metadata": {},
   "outputs": [
    {
     "name": "stdout",
     "output_type": "stream",
     "text": [
      "[13.   21.   41.   49.75 72.  ]\n"
     ]
    }
   ],
   "source": [
    "#\"PYTHON\"\n",
    "import numpy\n",
    "values = [13,21,21,40,42,48,55,72]\n",
    "x = numpy.quantile(values,[0,0.25,0.5,0.75,1])\n",
    "print(x)"
   ]
  },
  {
   "cell_type": "code",
   "execution_count": null,
   "metadata": {},
   "outputs": [],
   "source": [
    "'''\n",
    "\"R\"\n",
    "values <- c(13,21,21,40,42,48,55,72)\n",
    "quantile(values)\n",
    "O/P:13.   21.   41.   49.75 72.  \n",
    "'''"
   ]
  },
  {
   "cell_type": "code",
   "execution_count": null,
   "metadata": {},
   "outputs": [],
   "source": [
    "#Topic is \"PERCENTILES\""
   ]
  },
  {
   "cell_type": "code",
   "execution_count": 12,
   "metadata": {},
   "outputs": [
    {
     "name": "stdout",
     "output_type": "stream",
     "text": [
      "45.3\n"
     ]
    }
   ],
   "source": [
    "#\"PYTHON\"\n",
    "import numpy\n",
    "values = [13,21,21,40,42,48,55,72]\n",
    "x = numpy.percentile(values,65)\n",
    "print(x)"
   ]
  },
  {
   "cell_type": "code",
   "execution_count": null,
   "metadata": {},
   "outputs": [],
   "source": [
    "'''\n",
    "\"R\"\n",
    "values <- c(13,21,21,40,42,48,55,72)\n",
    "quantile(values,0.65)\n",
    "O/P:45.3 (#that is 65%)\n",
    "'''"
   ]
  },
  {
   "cell_type": "code",
   "execution_count": null,
   "metadata": {},
   "outputs": [],
   "source": [
    "#Topic is \"INTERQARTILE RANGE\""
   ]
  },
  {
   "cell_type": "code",
   "execution_count": 14,
   "metadata": {},
   "outputs": [
    {
     "name": "stdout",
     "output_type": "stream",
     "text": [
      "28.75\n"
     ]
    }
   ],
   "source": [
    "#\"PYTHON\"\n",
    "from scipy import stats\n",
    "values = [13,21,21,40,42,48,55,72]\n",
    "x = stats.iqr(values)\n",
    "print(x)"
   ]
  },
  {
   "cell_type": "code",
   "execution_count": null,
   "metadata": {},
   "outputs": [],
   "source": [
    "'''\n",
    "\"R\"\n",
    "values <- c(13,21,21,40,42,48,55,72)\n",
    "IQR(values)\n",
    "O/P:28.75\n",
    "'''"
   ]
  },
  {
   "cell_type": "code",
   "execution_count": null,
   "metadata": {},
   "outputs": [],
   "source": [
    "#DESCRIPTIVE STATISTICS [VISUALIZATION TECHNIQUE]"
    "#Topic is Bar Graph"
    "#Topic is Box Plot"
    "#Topic is Histograms"
    "#Topic is Skewness and Kurtosis"
   ]
  }
 ],
 "metadata": {
  "kernelspec": {
   "display_name": "Python 3",
   "language": "python",
   "name": "python3"
  },
  "language_info": {
   "codemirror_mode": {
    "name": "ipython",
    "version": 3
   },
   "file_extension": ".py",
   "mimetype": "text/x-python",
   "name": "python",
   "nbconvert_exporter": "python",
   "pygments_lexer": "ipython3",
   "version": "3.8.3"
  }
 },
 "nbformat": 4,
 "nbformat_minor": 4
}
